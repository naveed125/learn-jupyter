{
 "cells": [
  {
   "cell_type": "code",
   "execution_count": 1,
   "id": "46798ccc-9e9b-4e7b-8936-dab53aeb3b74",
   "metadata": {},
   "outputs": [
    {
     "name": "stdout",
     "output_type": "stream",
     "text": [
      "Hello\n"
     ]
    }
   ],
   "source": [
    "print (\"Hello\")"
   ]
  },
  {
   "cell_type": "code",
   "execution_count": null,
   "id": "74796797-629a-4cb4-8e47-24c6be5f2a5d",
   "metadata": {},
   "outputs": [],
   "source": [
    "import matplotlib.pyplot as plt\n",
    "from matplotlib.colors import LogNorm\n",
    "import numpy as np\n",
    "from astropy.stats import sigma_clip\n",
    "\n",
    "print (\"It works\")"
   ]
  },
  {
   "cell_type": "code",
   "execution_count": 3,
   "id": "3cd5d707-878e-4f36-8051-2c114ff8d28d",
   "metadata": {},
   "outputs": [
    {
     "name": "stdout",
     "output_type": "stream",
     "text": [
      "It works\n"
     ]
    }
   ],
   "source": [
    "import matplotlib.pyplot as plt\n",
    "from matplotlib.colors import LogNorm\n",
    "import numpy as np\n",
    "from astropy.stats import sigma_clip\n",
    "\n",
    "print (\"It works\")"
   ]
  },
  {
   "cell_type": "code",
   "execution_count": null,
   "id": "b3c26d52-8e72-44c4-94f1-dfb7f1b67b75",
   "metadata": {},
   "outputs": [],
   "source": []
  }
 ],
 "metadata": {
  "kernelspec": {
   "display_name": "Python 3 (ipykernel)",
   "language": "python",
   "name": "python3"
  },
  "language_info": {
   "codemirror_mode": {
    "name": "ipython",
    "version": 3
   },
   "file_extension": ".py",
   "mimetype": "text/x-python",
   "name": "python",
   "nbconvert_exporter": "python",
   "pygments_lexer": "ipython3",
   "version": "3.10.12"
  }
 },
 "nbformat": 4,
 "nbformat_minor": 5
}
